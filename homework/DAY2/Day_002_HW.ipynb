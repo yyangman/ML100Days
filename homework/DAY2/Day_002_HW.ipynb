{
 "cells": [
  {
   "cell_type": "markdown",
   "metadata": {},
   "source": [
    "## [作業目標]\n",
    "了解機器學習適合應用的領域與範疇。"
   ]
  },
  {
   "cell_type": "markdown",
   "metadata": {},
   "source": [
    "## [作業重點]\n",
    "透過瞭解機器學習的運作方式，找出非常適用機器學習應用的領域及其原因"
   ]
  },
  {
   "cell_type": "markdown",
   "metadata": {},
   "source": [
    "## 作業\n",
    "請找出一個你認為機器學習可以發光發熱的領域並闡述原因? "
   ]
  },
  {
   "cell_type": "code",
   "execution_count": 1,
   "metadata": {},
   "outputs": [
    {
     "ename": "SyntaxError",
     "evalue": "invalid syntax (<ipython-input-1-76b765b3e627>, line 1)",
     "output_type": "error",
     "traceback": [
      "\u001b[1;36m  File \u001b[1;32m\"<ipython-input-1-76b765b3e627>\"\u001b[1;36m, line \u001b[1;32m1\u001b[0m\n\u001b[1;33m    ANS1:可以透過監督式學習 (Supervised Learning)做Regression作股票的預測\u001b[0m\n\u001b[1;37m                               ^\u001b[0m\n\u001b[1;31mSyntaxError\u001b[0m\u001b[1;31m:\u001b[0m invalid syntax\n"
     ]
    }
   ],
   "source": [
    "ANS1:可以透過監督式學習 (Supervised Learning)做Regression作股票的預測   \n",
    "ANS2:其實股票牽扯到很多的因素，例如:公司的營運狀況、或是政府的升息降息還有許多基本面、技術面和籌碼面\n",
    "    都會影響投資人去投資股票的原因，雖然影響的層面很廣但我們可以透過判斷哪個因數對股票的漲跌有重大影響\n",
    "    做加權處理，並透過監督式學習去判斷，何時該進場及退場，而且機器的優點就是它不會貪心，知道何時需要該\n",
    "    停利或停損出場，而投資股票不是賭博，是一種理性的分析方式，所以交給機器是絕對可以放心的，只是要建造\n",
    "    出那麼理想的模型，可能還有點難度。"
   ]
  }
 ],
 "metadata": {
  "kernelspec": {
   "display_name": "Python 3",
   "language": "python",
   "name": "python3"
  },
  "language_info": {
   "codemirror_mode": {
    "name": "ipython",
    "version": 3
   },
   "file_extension": ".py",
   "mimetype": "text/x-python",
   "name": "python",
   "nbconvert_exporter": "python",
   "pygments_lexer": "ipython3",
   "version": "3.8.3"
  }
 },
 "nbformat": 4,
 "nbformat_minor": 2
}
